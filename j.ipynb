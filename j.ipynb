{
 "cells": [
  {
   "cell_type": "markdown",
   "id": "25a0fca2",
   "metadata": {},
   "source": [
    "Q.1 - How many multiplications and additions do you need to perform a matrix multiplication between a (n, k) and (k, m) matrix? Explain.\n",
    "\n",
    "ans. =  \n",
    "\n",
    "multiplication : there is a simple formula = n*k*m\n",
    "\n",
    "explaination = we can  take a row from A and a column from B. now multiply the first number from the row by the first number from the column and  the second number by the second so on. if the row and column each have k numbers, i will do k multiplication for just one spot in  C.\n",
    "now there are n row in  A and m column in  B. we have n different row to cpmbin with m different columns. this means there are a total of n × m element  to fill in C.\n",
    "so total multiplication = (number of spot in C) × (multiplication/spot) = n×m×k\n",
    "\n",
    "addition : there is a simple formula = n×m×(k−1)\n",
    "now after done  k multiplication for one spot add up all the results. if i have k numbers to add together the we need  k-1 addition\n",
    "now n × m spot to fill in  C, and each spot needs k-1 additions \n",
    "total addition = (number of spot in C) × (additions / spot) = n×m×(k−1)\n",
    "\n"
   ]
  },
  {
   "cell_type": "markdown",
   "id": "f79e2fc5",
   "metadata": {},
   "source": [
    "Q. 2 - Write Python code to multiply the above two matrices. Solve using list of lists and then use numpy. Compare the timing of both solutions. Which one is faster? Why?"
   ]
  },
  {
   "cell_type": "code",
   "execution_count": null,
   "id": "be37fe68",
   "metadata": {},
   "outputs": [
    {
     "name": "stdout",
     "output_type": "stream",
     "text": [
      "multiplication of two matrix is :\n",
      "[19, 22]\n",
      "[43, 50]\n"
     ]
    }
   ],
   "source": [
    "# code 1 : it is a basic approach\n",
    "\n",
    "\n",
    "m1 = [[1, 2],[3, 4]]\n",
    "m2 = [[5, 6],[7, 8]]\n",
    "\n",
    "r1_m1 = len(m1)\n",
    "c1_m1 = len(m1[0])\n",
    "r2_m2 = len(m2)\n",
    "c2_m2 = len(m2[0])\n",
    "\n",
    "if c1_m1 != r2_m2:\n",
    "    print(\"according to matrix rule in a matrix A[](n*m),B[](p*q) here m,p must be equal to each other \")\n",
    "else:\n",
    "    result = [[0 for i in range(c2_m2)] for j in range(r1_m1)]\n",
    "\n",
    "    for i in range(r1_m1):\n",
    "        for j in range(c2_m2):\n",
    "            for k in range(c1_m1):\n",
    "                result[i][j] += m1[i][k] * m2[k][j]\n",
    "\n",
    "    print(\"multiplication of two matrix is :\")\n",
    "    for q in result:\n",
    "        print(q)"
   ]
  },
  {
   "cell_type": "code",
   "execution_count": 10,
   "id": "f037568e",
   "metadata": {},
   "outputs": [
    {
     "name": "stdout",
     "output_type": "stream",
     "text": [
      "Multiplication of two matrix :\n",
      "[[19 22]\n",
      " [43 50]]\n"
     ]
    }
   ],
   "source": [
    "# <!-- code 2 : now using with python libary called numpy -->\n",
    "\n",
    "\n",
    "import numpy as np\n",
    "\n",
    "m1 = np.array([[1, 2],\n",
    "              [3, 4]])\n",
    "\n",
    "m2 = np.array([[5, 6],\n",
    "              [7, 8]])\n",
    "\n",
    "ans = np.dot(m1,m2)\n",
    "\n",
    "print(\"Multiplication of two matrix :\")\n",
    "print(ans)\n",
    "\n"
   ]
  },
  {
   "cell_type": "markdown",
   "id": "7bdb35d2",
   "metadata": {},
   "source": [
    "time taken by code 2 is lees than code 1 because in code i have too many statement lines loops etc "
   ]
  },
  {
   "cell_type": "markdown",
   "id": "de273e85",
   "metadata": {},
   "source": [
    "Q.3 - Finding the highest element in a list requires one pass of the array. Finding the second highest element requires 2 passes of the array. Using this method, what is the time complexity of finding the median of the array? Can you suggest a better method? Can you implement both these methods in Python and compare against numpy.median routine in terms of time?"
   ]
  },
  {
   "cell_type": "code",
   "execution_count": null,
   "id": "7cf0a749",
   "metadata": {},
   "outputs": [
    {
     "name": "stdout",
     "output_type": "stream",
     "text": [
      "\n",
      "Array size: 10\n",
      "Multiple passes: 0.000000s, result: 36\n",
      "Quickselect: 0.000000s, result: 48\n",
      "NumPy median: 0.000000s, result: 42.0\n",
      "\n",
      "Array size: 100\n",
      "Multiple passes: 0.000000s, result: 54\n",
      "Quickselect: 0.000000s, result: 54\n",
      "NumPy median: 0.002007s, result: 54.0\n",
      "\n",
      "Array size: 500\n",
      "Multiple passes: 0.004015s, result: 51\n",
      "Quickselect: 0.000000s, result: 51\n",
      "NumPy median: 0.000000s, result: 51.0\n"
     ]
    }
   ],
   "source": [
    "import random\n",
    "import time\n",
    "import numpy as np\n",
    "\n",
    "def median(arr):\n",
    "    arr_copy = arr.copy()\n",
    "    n = len(arr_copy)\n",
    "    target_index = n // 2\n",
    "    for i in range(target_index + 1):\n",
    "        max_val = float('-inf')\n",
    "        max_idx = -1\n",
    "        for j in range(len(arr_copy)):\n",
    "            if arr_copy[j] > max_val:\n",
    "                max_val = arr_copy[j]\n",
    "                max_idx = j\n",
    "        if i == target_index:\n",
    "            return max_val\n",
    "        arr_copy.pop(max_idx)\n",
    "\n",
    "def quickselect_median(arr):\n",
    "    def quickselect(arr, k):\n",
    "        if len(arr) == 1:\n",
    "            return arr[0]\n",
    "        \n",
    "        pivot = random.choice(arr)\n",
    "        lows = [x for x in arr if x < pivot]\n",
    "        highs = [x for x in arr if x > pivot]\n",
    "        pivots = [x for x in arr if x == pivot]\n",
    "        \n",
    "        if k < len(lows):\n",
    "            return quickselect(lows, k)\n",
    "        elif k < len(lows) + len(pivots):\n",
    "            return pivot\n",
    "        else:\n",
    "            return quickselect(highs, k - len(lows) - len(pivots))\n",
    "    \n",
    "    n = len(arr)\n",
    "    return quickselect(arr, n // 2)\n",
    "\n",
    "sizes = [10,100,500]\n",
    "for size in sizes:\n",
    "    print(f\"\\nArray size: {size}\")\n",
    "    test_arr = [random.randint(1, 100) for _ in range(size)]\n",
    "    \n",
    "    start = time.time()\n",
    "    result1 = median(test_arr)\n",
    "    time1 = time.time() - start\n",
    "    \n",
    "    start = time.time()\n",
    "    result2 = quickselect_median(test_arr)\n",
    "    time2 = time.time() - start\n",
    "    \n",
    "    np_arr = np.array(test_arr)\n",
    "    start = time.time()\n",
    "    result3 = np.median(np_arr)\n",
    "    time3 = time.time() - start\n",
    "    \n",
    "    print(f\"Multiple passes: {time1:.6f}s, result: {result1}\")\n",
    "    print(f\"Quickselect: {time2:.6f}s, result: {result2}\")\n",
    "    print(f\"NumPy median: {time3:.6f}s, result: {result3}\")"
   ]
  },
  {
   "cell_type": "markdown",
   "id": "bb0cfab3",
   "metadata": {},
   "source": [
    "Use JAX to confirm the gradient evaluated by your method matches the analytical solution corresponding to a few random values of x and y\n",
    "\n"
   ]
  },
  {
   "cell_type": "code",
   "execution_count": 9,
   "id": "4aab8364",
   "metadata": {},
   "outputs": [
    {
     "name": "stdout",
     "output_type": "stream",
     "text": [
      "Comparing JAX gradients with analytical solutions:\n",
      "x\t\ty\t\tJAX grad_x\tAnalytical grad_x\tJAX grad_y\tAnalytical grad_y\n",
      "------------------------------------------------------------------------------------------\n",
      "0.497\t\t-0.138\t\t-0.139679\t-0.139679\t\t0.274055\t0.274055\n",
      "0.648\t\t1.523\t\t4.790277\t4.790277\t\t4.618091\t4.618092\n"
     ]
    },
    {
     "ename": "AssertionError",
     "evalue": "Gradient y mismatch!",
     "output_type": "error",
     "traceback": [
      "\u001b[31m---------------------------------------------------------------------------\u001b[39m",
      "\u001b[31mAssertionError\u001b[39m                            Traceback (most recent call last)",
      "\u001b[36mCell\u001b[39m\u001b[36m \u001b[39m\u001b[32mIn[9]\u001b[39m\u001b[32m, line 28\u001b[39m\n\u001b[32m     25\u001b[39m     \u001b[38;5;28mprint\u001b[39m(\u001b[33mf\u001b[39m\u001b[33m\"\u001b[39m\u001b[38;5;132;01m{\u001b[39;00mx\u001b[38;5;132;01m:\u001b[39;00m\u001b[33m.3f\u001b[39m\u001b[38;5;132;01m}\u001b[39;00m\u001b[38;5;130;01m\\t\u001b[39;00m\u001b[38;5;130;01m\\t\u001b[39;00m\u001b[38;5;132;01m{\u001b[39;00my\u001b[38;5;132;01m:\u001b[39;00m\u001b[33m.3f\u001b[39m\u001b[38;5;132;01m}\u001b[39;00m\u001b[38;5;130;01m\\t\u001b[39;00m\u001b[38;5;130;01m\\t\u001b[39;00m\u001b[38;5;132;01m{\u001b[39;00mjax_grad_x\u001b[38;5;132;01m:\u001b[39;00m\u001b[33m.6f\u001b[39m\u001b[38;5;132;01m}\u001b[39;00m\u001b[38;5;130;01m\\t\u001b[39;00m\u001b[38;5;132;01m{\u001b[39;00manal_grad_x\u001b[38;5;132;01m:\u001b[39;00m\u001b[33m.6f\u001b[39m\u001b[38;5;132;01m}\u001b[39;00m\u001b[38;5;130;01m\\t\u001b[39;00m\u001b[38;5;130;01m\\t\u001b[39;00m\u001b[38;5;132;01m{\u001b[39;00mjax_grad_y\u001b[38;5;132;01m:\u001b[39;00m\u001b[33m.6f\u001b[39m\u001b[38;5;132;01m}\u001b[39;00m\u001b[38;5;130;01m\\t\u001b[39;00m\u001b[38;5;132;01m{\u001b[39;00manal_grad_y\u001b[38;5;132;01m:\u001b[39;00m\u001b[33m.6f\u001b[39m\u001b[38;5;132;01m}\u001b[39;00m\u001b[33m\"\u001b[39m)\n\u001b[32m     27\u001b[39m     \u001b[38;5;28;01massert\u001b[39;00m \u001b[38;5;28mabs\u001b[39m(jax_grad_x - anal_grad_x) < \u001b[32m1e-10\u001b[39m, \u001b[33m\"\u001b[39m\u001b[33mGradient x mismatch!\u001b[39m\u001b[33m\"\u001b[39m\n\u001b[32m---> \u001b[39m\u001b[32m28\u001b[39m     \u001b[38;5;28;01massert\u001b[39;00m \u001b[38;5;28mabs\u001b[39m(jax_grad_y - anal_grad_y) < \u001b[32m1e-10\u001b[39m, \u001b[33m\"\u001b[39m\u001b[33mGradient y mismatch!\u001b[39m\u001b[33m\"\u001b[39m\n\u001b[32m     30\u001b[39m \u001b[38;5;28mprint\u001b[39m(\u001b[33m\"\u001b[39m\u001b[38;5;130;01m\\n\u001b[39;00m\u001b[33m✓ All JAX gradients match analytical solutions!\u001b[39m\u001b[33m\"\u001b[39m)\n",
      "\u001b[31mAssertionError\u001b[39m: Gradient y mismatch!"
     ]
    }
   ],
   "source": [
    "import jax\n",
    "import jax.numpy as jnp\n",
    "import numpy as np\n",
    "\n",
    "def f(x, y):\n",
    "    return x**2 * y + y**3 * jnp.sin(x)\n",
    "def analytical_grad_x(x, y):\n",
    "    return 2*x*y + y**3 * jnp.cos(x)\n",
    "\n",
    "def analytical_grad_y(x, y):\n",
    "    return x**2 + 3*y**2 * jnp.sin(x)\n",
    "\n",
    "grad_f = jax.grad(f, argnums=(0, 1))\n",
    "np.random.seed(42)\n",
    "test_points = [(np.random.randn(), np.random.randn()) for _ in range(5)]\n",
    "\n",
    "print(\"Comparing JAX gradients with analytical solutions:\")\n",
    "print(\"x\\t\\ty\\t\\tJAX grad_x\\tAnalytical grad_x\\tJAX grad_y\\tAnalytical grad_y\")\n",
    "print(\"-\" * 90)\n",
    "for x, y in test_points:\n",
    "    jax_grad_x, jax_grad_y = grad_f(x, y)\n",
    "    anal_grad_x = analytical_grad_x(x, y)\n",
    "    anal_grad_y = analytical_grad_y(x, y)\n",
    "    \n",
    "    print(f\"{x:.3f}\\t\\t{y:.3f}\\t\\t{jax_grad_x:.6f}\\t{anal_grad_x:.6f}\\t\\t{jax_grad_y:.6f}\\t{anal_grad_y:.6f}\")\n",
    "    \n",
    "    assert abs(jax_grad_x - anal_grad_x) < 1e-10, \"Gradient x mismatch!\"\n",
    "    assert abs(jax_grad_y - anal_grad_y) < 1e-10, \"Gradient y mismatch!\"\n",
    "\n",
    "print(\"\\n✓ All JAX gradients match analytical solutions!\")"
   ]
  },
  {
   "cell_type": "code",
   "execution_count": null,
   "id": "a368601e",
   "metadata": {},
   "outputs": [],
   "source": [
    "Q. 6 -Use sympy to confirm that you obtain the same gradient analytically."
   ]
  },
  {
   "cell_type": "code",
   "execution_count": 10,
   "id": "dae23333",
   "metadata": {},
   "outputs": [
    {
     "name": "stdout",
     "output_type": "stream",
     "text": [
      "SymPy symbolic gradients:\n",
      "∂f/∂x = 2*x*y + y**3*cos(x)\n",
      "∂f/∂y = x**2 + 3*y**2*sin(x)\n",
      "\n",
      "Comparing SymPy gradients with analytical solutions:\n",
      "x\t\ty\t\tSymPy grad_x\tAnalytical grad_x\tSymPy grad_y\tAnalytical grad_y\n",
      "------------------------------------------------------------------------------------------\n",
      "0.497\t\t-0.138\t\t-0.139679\t-0.139679\t\t0.274055\t0.274055\n",
      "0.648\t\t1.523\t\t4.790277\t4.790277\t\t4.618091\t4.618092\n",
      "-0.234\t\t-0.234\t\t0.097163\t0.097163\t\t0.016670\t0.016670\n",
      "1.579\t\t0.767\t\t2.420081\t2.420082\t\t4.260719\t4.260719\n",
      "-0.469\t\t0.543\t\t-0.367002\t-0.367002\t\t-0.179130\t-0.179130\n",
      "\n",
      "✓ SymPy symbolic differentiation confirms our analytical solution!\n"
     ]
    }
   ],
   "source": [
    "\n",
    "import sympy as sp\n",
    "x, y = sp.symbols('x y')\n",
    "\n",
    "f = x**2 * y + y**3 * sp.sin(x)\n",
    "\n",
    "grad_x_sympy = sp.diff(f, x)\n",
    "grad_y_sympy = sp.diff(f, y)\n",
    "print(\"SymPy symbolic gradients:\")\n",
    "print(f\"∂f/∂x = {grad_x_sympy}\")\n",
    "print(f\"∂f/∂y = {grad_y_sympy}\")\n",
    "\n",
    "grad_x_func = sp.lambdify([x, y], grad_x_sympy, 'numpy')\n",
    "grad_y_func = sp.lambdify([x, y], grad_y_sympy, 'numpy')\n",
    "\n",
    "print(\"\\nComparing SymPy gradients with analytical solutions:\")\n",
    "print(\"x\\t\\ty\\t\\tSymPy grad_x\\tAnalytical grad_x\\tSymPy grad_y\\tAnalytical grad_y\")\n",
    "print(\"-\" * 90)\n",
    "\n",
    "for x_val, y_val in test_points:\n",
    "    sympy_grad_x = grad_x_func(x_val, y_val)\n",
    "    sympy_grad_y = grad_y_func(x_val, y_val)\n",
    "    anal_grad_x = analytical_grad_x(x_val, y_val)\n",
    "    anal_grad_y = analytical_grad_y(x_val, y_val)\n",
    "    \n",
    "    print(f\"{x_val:.3f}\\t\\t{y_val:.3f}\\t\\t{sympy_grad_x:.6f}\\t{anal_grad_x:.6f}\\t\\t{sympy_grad_y:.6f}\\t{anal_grad_y:.6f}\")\n",
    "\n",
    "print(\"\\n✓ SymPy symbolic differentiation confirms our analytical solution!\")"
   ]
  },
  {
   "cell_type": "markdown",
   "id": "58c71cc6",
   "metadata": {},
   "source": []
  },
  {
   "cell_type": "markdown",
   "id": "3a9bdcb5",
   "metadata": {},
   "source": []
  },
  {
   "cell_type": "code",
   "execution_count": null,
   "id": "9d7b0abb",
   "metadata": {},
   "outputs": [],
   "source": []
  }
 ],
 "metadata": {
  "kernelspec": {
   "display_name": "Python 3",
   "language": "python",
   "name": "python3"
  },
  "language_info": {
   "codemirror_mode": {
    "name": "ipython",
    "version": 3
   },
   "file_extension": ".py",
   "mimetype": "text/x-python",
   "name": "python",
   "nbconvert_exporter": "python",
   "pygments_lexer": "ipython3",
   "version": "3.12.3"
  }
 },
 "nbformat": 4,
 "nbformat_minor": 5
}
